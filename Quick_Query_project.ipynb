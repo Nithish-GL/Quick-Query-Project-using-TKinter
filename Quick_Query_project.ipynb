{
  "nbformat": 4,
  "nbformat_minor": 0,
  "metadata": {
    "colab": {
      "provenance": [],
      "authorship_tag": "ABX9TyOKLQPeRG77uRD5ZKKaA+Nj",
      "include_colab_link": true
    },
    "kernelspec": {
      "name": "python3",
      "display_name": "Python 3"
    },
    "language_info": {
      "name": "python"
    }
  },
  "cells": [
    {
      "cell_type": "markdown",
      "metadata": {
        "id": "view-in-github",
        "colab_type": "text"
      },
      "source": [
        "<a href=\"https://colab.research.google.com/github/Nithish-GL/Quick-Query-Project-using-TKinter/blob/main/Quick_Query_project.ipynb\" target=\"_parent\"><img src=\"https://colab.research.google.com/assets/colab-badge.svg\" alt=\"Open In Colab\"/></a>"
      ]
    },
    {
      "cell_type": "code",
      "source": [
        "from IPython.display import HTML, display\n",
        "import json\n",
        "import webbrowser\n",
        "\n",
        "# Sample dataset (list of dictionaries)\n",
        "dataset = [\n",
        "    {\"name\": \"Python\", \"info\": \"Python is a programming language.\", \"url\": \"https://www.python.org/\"},\n",
        "    {\"name\": \"Tkinter\", \"info\": \"Tkinter is a GUI toolkit for Python.\", \"url\": \"https://docs.python.org/3/library/tkinter.html\"},\n",
        "    {\"name\": \"Pandas\", \"info\": \"Pandas is a data analysis library.\", \"url\": \"https://pandas.pydata.org/\"},\n",
        "]\n",
        "\n",
        "# Function to search the dataset and display results\n",
        "def search_and_display(query):\n",
        "    query = query.lower()\n",
        "    results = [record for record in dataset if query in record['name'].lower() or query in record['info'].lower()]\n",
        "\n",
        "    if results:\n",
        "        # Convert the results to an HTML string\n",
        "        html_content = \"<html><body><h1>Search Results</h1><ul>\"\n",
        "        for result in results:\n",
        "            html_content += f\"<li><a href='{result['url']}' target='_blank'>{result['name']}</a>: {result['info']}</li>\"\n",
        "        html_content += \"</ul></body></html>\"\n",
        "\n",
        "        # Display the HTML in the notebook\n",
        "        display(HTML(html_content))\n",
        "    else:\n",
        "        # Show a message if no results are found\n",
        "        display(HTML(\"<p><b>No matching results found.</b></p>\"))\n",
        "\n",
        "# Create a simple input interface in Colab\n",
        "query = input(\"Enter your search query: \")\n",
        "search_and_display(query)\n"
      ],
      "metadata": {
        "colab": {
          "base_uri": "https://localhost:8080/",
          "height": 118
        },
        "id": "918vhJZRFhTo",
        "outputId": "183a027c-5dba-4e18-eeee-18f213d40742"
      },
      "execution_count": 3,
      "outputs": [
        {
          "name": "stdout",
          "output_type": "stream",
          "text": [
            "Enter your search query: tkinter\n"
          ]
        },
        {
          "output_type": "display_data",
          "data": {
            "text/plain": [
              "<IPython.core.display.HTML object>"
            ],
            "text/html": [
              "<html><body><h1>Search Results</h1><ul><li><a href='https://docs.python.org/3/library/tkinter.html' target='_blank'>Tkinter</a>: Tkinter is a GUI toolkit for Python.</li></ul></body></html>"
            ]
          },
          "metadata": {}
        }
      ]
    }
  ]
}